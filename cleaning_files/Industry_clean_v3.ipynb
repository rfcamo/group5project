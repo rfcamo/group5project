{
 "metadata": {
  "language_info": {
   "codemirror_mode": {
    "name": "ipython",
    "version": 3
   },
   "file_extension": ".py",
   "mimetype": "text/x-python",
   "name": "python",
   "nbconvert_exporter": "python",
   "pygments_lexer": "ipython3",
   "version": "3.8.3"
  },
  "orig_nbformat": 2,
  "kernelspec": {
   "name": "python383jvsc74a57bd051d3291f5ceb888cf1faadfa41614c22458ba4c049584f6a0b84510c56f587e2",
   "display_name": "Python 3.8.3 64-bit (conda)"
  }
 },
 "nbformat": 4,
 "nbformat_minor": 2,
 "cells": [
  {
   "cell_type": "code",
   "execution_count": 1,
   "metadata": {},
   "outputs": [],
   "source": [
    "import pandas as pd \n",
    "import matplotlib.pyplot as plt\n",
    "from datetime import datetime,date\n",
    "import time"
   ]
  },
  {
   "source": [
    "# Table of Contents\n",
    "\n",
    "1.  [Data Wrangling and Cleanup](#cleanup)\n",
    "\n",
    "1.1 [Mining and Petroleum Exploration Data](#mining)\n",
    "\n",
    "1.2 [Travel and Tourism](#travel)\n",
    "\n",
    "2.  [References](#refer)\n",
    "\n"
   ],
   "cell_type": "markdown",
   "metadata": {}
  },
  {
   "source": [
    "<a id='cleanup'></a>\n",
    "# 1. Data Wrangling and Data Cleanup\n",
    "In this script, two Australian industry data are considered:\n",
    "- Mining\n",
    "- Travel and Tourism"
   ],
   "cell_type": "markdown",
   "metadata": {}
  },
  {
   "source": [
    "<a id=\"mining\"></a>\n",
    "## 1.1 Mining and Petroleum Exploration Data"
   ],
   "cell_type": "markdown",
   "metadata": {}
  },
  {
   "cell_type": "code",
   "execution_count": 2,
   "metadata": {},
   "outputs": [
    {
     "output_type": "stream",
     "name": "stderr",
     "text": [
      "<ipython-input-2-149384f326b4>:26: SettingWithCopyWarning: \nA value is trying to be set on a copy of a slice from a DataFrame.\nTry using .loc[row_indexer,col_indexer] = value instead\n\nSee the caveats in the documentation: https://pandas.pydata.org/pandas-docs/stable/user_guide/indexing.html#returning-a-view-versus-a-copy\n  df_drilling_12Q['Quarter'] = Quarter\n"
     ]
    },
    {
     "output_type": "execute_result",
     "data": {
      "text/plain": [
       "  Onshore Offshore  Quarter\n",
       "0    76.6    106.7  Q1_2018\n",
       "1    91.9    224.2  Q2_2018\n",
       "2    99.7    208.2  Q3_2018\n",
       "3   130.5      222  Q4_2018\n",
       "4    94.1    128.4  Q1_2019"
      ],
      "text/html": "<div>\n<style scoped>\n    .dataframe tbody tr th:only-of-type {\n        vertical-align: middle;\n    }\n\n    .dataframe tbody tr th {\n        vertical-align: top;\n    }\n\n    .dataframe thead th {\n        text-align: right;\n    }\n</style>\n<table border=\"1\" class=\"dataframe\">\n  <thead>\n    <tr style=\"text-align: right;\">\n      <th></th>\n      <th>Onshore</th>\n      <th>Offshore</th>\n      <th>Quarter</th>\n    </tr>\n  </thead>\n  <tbody>\n    <tr>\n      <th>0</th>\n      <td>76.6</td>\n      <td>106.7</td>\n      <td>Q1_2018</td>\n    </tr>\n    <tr>\n      <th>1</th>\n      <td>91.9</td>\n      <td>224.2</td>\n      <td>Q2_2018</td>\n    </tr>\n    <tr>\n      <th>2</th>\n      <td>99.7</td>\n      <td>208.2</td>\n      <td>Q3_2018</td>\n    </tr>\n    <tr>\n      <th>3</th>\n      <td>130.5</td>\n      <td>222</td>\n      <td>Q4_2018</td>\n    </tr>\n    <tr>\n      <th>4</th>\n      <td>94.1</td>\n      <td>128.4</td>\n      <td>Q1_2019</td>\n    </tr>\n  </tbody>\n</table>\n</div>"
     },
     "metadata": {},
     "execution_count": 2
    }
   ],
   "source": [
    "# Petroleum exploration Data (in millions USD)\n",
    "\n",
    "# Read from csv\n",
    "df_drill_raw = pd.read_excel('../Resources/industry/petroleum_exp.xls', sheet_name='Data1')\n",
    "df_drilling = df_drill_raw.iloc[9:,[0,3,6]]\n",
    "df_drilling = df_drilling.rename(columns = {'Unnamed: 0': 'Date', 'Onshore ;  Total (DRILLING/OTHER) ;': 'Onshore', 'Offshore ;  Total (DRILLING/OTHER) ;': 'Offshore'}, inplace = False)\n",
    "# Change timestamp to date\n",
    "df_drilling['Date'] = pd.to_datetime(df_drilling['Date']).dt.date\n",
    "df_drilling = df_drilling.reset_index(drop = True)\n",
    "# Get the year and quarter data\n",
    "df_drilling['Year'] = pd.to_datetime(df_drilling['Date']).dt.year\n",
    "df_drilling['Month'] = pd.to_datetime(df_drilling['Date']).dt.month\n",
    "\n",
    "# Extract the data from 2018 or the last 12 quarter\n",
    "df_drilling_12Q = df_drilling[-12:]\n",
    "\n",
    "# Adding column quarter\n",
    "quart = ['Q1','Q2','Q3','Q4']\n",
    "Quarter = []\n",
    "no_years = df_drilling_12Q.groupby('Year').count()\n",
    "range_years = no_years.index\n",
    "for i in range(len(range_years)):\n",
    "    for j in range(len(quart)):\n",
    "        Quarter.append(f'{quart[j]}_{range_years[i]}')\n",
    "\n",
    "df_drilling_12Q['Quarter'] = Quarter\n",
    "df_drilling_12Q = df_drilling_12Q.reset_index(drop = True)\n",
    "df_drilling_12Q\n",
    "\n",
    "# Split the data to get the final data for visualization\n",
    "df_drilling_final = df_drilling_12Q[['Onshore', 'Offshore', 'Quarter']]\n",
    "df_drilling_final\n",
    "\n",
    "df_drilling_final.to_csv('../Output/industry/drilling.csv')\n",
    "df_drilling_final.head()"
   ]
  },
  {
   "cell_type": "code",
   "execution_count": 3,
   "metadata": {},
   "outputs": [
    {
     "output_type": "stream",
     "name": "stderr",
     "text": [
      "<ipython-input-3-d3c292ec119b>:22: SettingWithCopyWarning: \nA value is trying to be set on a copy of a slice from a DataFrame.\nTry using .loc[row_indexer,col_indexer] = value instead\n\nSee the caveats in the documentation: https://pandas.pydata.org/pandas-docs/stable/user_guide/indexing.html#returning-a-view-versus-a-copy\n  df_mining_12Q['Quarter'] = Quarter\n"
     ]
    },
    {
     "output_type": "execute_result",
     "data": {
      "text/plain": [
       "    NSW   VIC   QLD    SA     WA  TAS    NT     AU  Quarter\n",
       "0  61.0  18.4  56.8  14.1  261.0  4.7  22.5  438.5  Q1_2018\n",
       "1  68.5  24.5  70.3  19.7  349.8  6.7  28.3  567.8  Q2_2018\n",
       "2  56.7  22.4  86.1  20.4  361.0  5.3  32.5  584.4  Q3_2018\n",
       "3  61.2  28.3  90.3  21.9  346.3  4.8  39.9  592.7  Q4_2018\n",
       "4  61.8  24.4  51.7  16.5  319.5  3.7  27.0  504.6  Q1_2019"
      ],
      "text/html": "<div>\n<style scoped>\n    .dataframe tbody tr th:only-of-type {\n        vertical-align: middle;\n    }\n\n    .dataframe tbody tr th {\n        vertical-align: top;\n    }\n\n    .dataframe thead th {\n        text-align: right;\n    }\n</style>\n<table border=\"1\" class=\"dataframe\">\n  <thead>\n    <tr style=\"text-align: right;\">\n      <th></th>\n      <th>NSW</th>\n      <th>VIC</th>\n      <th>QLD</th>\n      <th>SA</th>\n      <th>WA</th>\n      <th>TAS</th>\n      <th>NT</th>\n      <th>AU</th>\n      <th>Quarter</th>\n    </tr>\n  </thead>\n  <tbody>\n    <tr>\n      <th>0</th>\n      <td>61.0</td>\n      <td>18.4</td>\n      <td>56.8</td>\n      <td>14.1</td>\n      <td>261.0</td>\n      <td>4.7</td>\n      <td>22.5</td>\n      <td>438.5</td>\n      <td>Q1_2018</td>\n    </tr>\n    <tr>\n      <th>1</th>\n      <td>68.5</td>\n      <td>24.5</td>\n      <td>70.3</td>\n      <td>19.7</td>\n      <td>349.8</td>\n      <td>6.7</td>\n      <td>28.3</td>\n      <td>567.8</td>\n      <td>Q2_2018</td>\n    </tr>\n    <tr>\n      <th>2</th>\n      <td>56.7</td>\n      <td>22.4</td>\n      <td>86.1</td>\n      <td>20.4</td>\n      <td>361.0</td>\n      <td>5.3</td>\n      <td>32.5</td>\n      <td>584.4</td>\n      <td>Q3_2018</td>\n    </tr>\n    <tr>\n      <th>3</th>\n      <td>61.2</td>\n      <td>28.3</td>\n      <td>90.3</td>\n      <td>21.9</td>\n      <td>346.3</td>\n      <td>4.8</td>\n      <td>39.9</td>\n      <td>592.7</td>\n      <td>Q4_2018</td>\n    </tr>\n    <tr>\n      <th>4</th>\n      <td>61.8</td>\n      <td>24.4</td>\n      <td>51.7</td>\n      <td>16.5</td>\n      <td>319.5</td>\n      <td>3.7</td>\n      <td>27.0</td>\n      <td>504.6</td>\n      <td>Q1_2019</td>\n    </tr>\n  </tbody>\n</table>\n</div>"
     },
     "metadata": {},
     "execution_count": 3
    }
   ],
   "source": [
    "# Mining Exploration data (in millions USD)\n",
    "\n",
    "# Read data from csv\n",
    "df_mining_raw = pd.read_excel('../Resources/industry/MINERAL_exp_expenditure_state.xls', sheet_name='Data1')\n",
    "df_mining = df_mining_raw.iloc[9:,:8]\n",
    "df_mining = df_mining.fillna(0)\n",
    "df_mining = df_mining.rename(columns = {'Unnamed: 0': 'Date', 'Expenditure ;  New South Wales ;  Total deposits ;': 'NSW', 'Expenditure ;  Victoria ;  Total deposits ;': 'VIC', 'Expenditure ;  Queensland ;  Total deposits ;':'QLD',\n",
    "'Expenditure ;  South Australia ;  Total deposits ;':'SA', 'Expenditure ;  Western Australia ;  Total deposits ;':'WA',\n",
    "'Expenditure ;  Tasmania ;  Total deposits ;':'TAS', 'Expenditure ;  Northern Territory ;  Total deposits ;':'NT'}, inplace = False)\n",
    "df_mining = df_mining.reset_index(drop = True)\n",
    "# Add column for total Australia\n",
    "df_mining['AU'] = df_mining.sum(axis = 1)\n",
    "\n",
    "# Get the year and quarter data\n",
    "df_mining['Year'] = pd.to_datetime(df_mining['Date']).dt.year\n",
    "df_mining['Month'] = pd.to_datetime(df_mining['Date']).dt.month\n",
    "\n",
    "# Extract the last 12 quarter (from 2018)\n",
    "df_mining_12Q = df_mining[-12:]\n",
    "\n",
    "# Adding column quarter\n",
    "df_mining_12Q['Quarter'] = Quarter\n",
    "df_mining_12Q = df_mining_12Q.reset_index(drop = True)\n",
    "df_mining_12Q\n",
    "\n",
    "# Split the data to get the final data for visualization\n",
    "df_mining_final = df_mining_12Q[['NSW', 'VIC','QLD','SA','WA','TAS','NT','AU','Quarter']]\n",
    "\n",
    "# Save to csv\n",
    "df_mining_final.to_csv('../Output/industry/mining.csv')\n",
    "df_mining_final.head()"
   ]
  },
  {
   "source": [
    "<a id='travel'></a>\n",
    "## 1.2 Travel Industry\n",
    "\n",
    "Total movement in/out Australia per state. There are two sets of data:\n",
    "- Arrival\n",
    "- Departure\n"
   ],
   "cell_type": "markdown",
   "metadata": {}
  },
  {
   "source": [
    "<h id = 'arrival'><h>\n",
    "### Arrival"
   ],
   "cell_type": "markdown",
   "metadata": {}
  },
  {
   "cell_type": "code",
   "execution_count": 4,
   "metadata": {},
   "outputs": [],
   "source": [
    "# Arrival Data\n",
    "df_arrival_raw = pd.read_excel('../Resources/industry/Travel_State_Mar21.xls', sheet_name='Table 1.1')\n",
    "df_arrival = df_arrival_raw.iloc[7:]\n",
    "df_arrival.columns\n",
    "df_arrival = df_arrival.rename(columns = {'            Australian Bureau of Statistics': 'Date', 'Unnamed: 1': 'NSW', 'Unnamed: 2': 'VIC', 'Unnamed: 3':'QLD', 'Unnamed: 4':'SA', 'Unnamed: 5':'WA', 'Unnamed: 6':'TAS', 'Unnamed: 7':'NT', \n",
    "'Unnamed: 8': 'ACT', 'Unnamed: 9':'AU'}, inplace = False)\n",
    "df_arrival.reset_index(drop = True, inplace = True)\n",
    "df_arrival = df_arrival[:55]\n",
    "df_arrival['Date'] = pd.to_datetime(df_arrival['Date']).dt.date\n",
    "# df_drilling = df_drilling.reset_index(drop = True)\n",
    "\n",
    "# Get the year and quarter data\n",
    "df_arrival['Year'] = pd.to_datetime(df_arrival['Date']).dt.year\n",
    "df_arrival['Month'] = pd.to_datetime(df_arrival['Date']).dt.month\n",
    "\n",
    "# Extract from 2018\n",
    "df_arrival_2018 = df_arrival[-39:]\n",
    "\n",
    "# grab the years series\n",
    "years = df_arrival_2018.groupby('Year').count().index\n",
    "\n",
    "# save the monthly travel data from 2018-2021\n",
    "# df_m_arrival = df_arrival_2018.reset_index(drop = True)\n",
    "# df_m_arrival.to_csv('../Output/industry/arrival_m.csv')\n"
   ]
  },
  {
   "cell_type": "code",
   "execution_count": 5,
   "metadata": {},
   "outputs": [],
   "source": [
    "# clean the monthly data\n",
    "df_m_arrive = df_arrival_2018[['NSW', 'VIC', 'QLD', 'SA', 'WA', 'TAS', 'NT','ACT','AU']]\n",
    "\n",
    "\n",
    "df_arrival_2018 = df_arrival_2018.reset_index(drop=True)\n",
    "mos = []\n",
    "for i in range(len(df_arrival_2018)):\n",
    "    # print(i,df_dept_2018)\n",
    "    mos.append(f'{df_arrival_2018.iloc[i,11]}_{df_arrival_2018.iloc[i,10]}')\n",
    "    # _{df_dept_2018['Year'][i]}')\n",
    "\n",
    "df_m_arrive['Month'] = mos\n",
    "df_m_arrive = df_m_arrive.reset_index(drop = True)\n",
    "df_m_arrive.to_csv('../Output/industry/m_arrive.csv')"
   ]
  },
  {
   "cell_type": "code",
   "execution_count": 6,
   "metadata": {},
   "outputs": [
    {
     "output_type": "execute_result",
     "data": {
      "text/plain": [
       "       NSW      VIC      QLD      SA      WA    TAS     NT    ACT       AU  \\\n",
       "0  2264540  1478110  1009060  139500  591850   9330  38810  13660  5545340   \n",
       "1  1859650  1255830   892100  108610  500010     10  37590  11880  4665990   \n",
       "2  2136460  1483730  1051700  139680  587500      0  42360  12170  5454430   \n",
       "3  2219700  1497420  1001920  137420  576590   9670  40080   9890  5493170   \n",
       "4  2286190  1582830  1017510  144390  585240  11710  37550   9320  5675200   \n",
       "\n",
       "   Quarter  \n",
       "0  Q1_2018  \n",
       "1  Q2_2018  \n",
       "2  Q3_2018  \n",
       "3  Q4_2018  \n",
       "4  Q1_2019  "
      ],
      "text/html": "<div>\n<style scoped>\n    .dataframe tbody tr th:only-of-type {\n        vertical-align: middle;\n    }\n\n    .dataframe tbody tr th {\n        vertical-align: top;\n    }\n\n    .dataframe thead th {\n        text-align: right;\n    }\n</style>\n<table border=\"1\" class=\"dataframe\">\n  <thead>\n    <tr style=\"text-align: right;\">\n      <th></th>\n      <th>NSW</th>\n      <th>VIC</th>\n      <th>QLD</th>\n      <th>SA</th>\n      <th>WA</th>\n      <th>TAS</th>\n      <th>NT</th>\n      <th>ACT</th>\n      <th>AU</th>\n      <th>Quarter</th>\n    </tr>\n  </thead>\n  <tbody>\n    <tr>\n      <th>0</th>\n      <td>2264540</td>\n      <td>1478110</td>\n      <td>1009060</td>\n      <td>139500</td>\n      <td>591850</td>\n      <td>9330</td>\n      <td>38810</td>\n      <td>13660</td>\n      <td>5545340</td>\n      <td>Q1_2018</td>\n    </tr>\n    <tr>\n      <th>1</th>\n      <td>1859650</td>\n      <td>1255830</td>\n      <td>892100</td>\n      <td>108610</td>\n      <td>500010</td>\n      <td>10</td>\n      <td>37590</td>\n      <td>11880</td>\n      <td>4665990</td>\n      <td>Q2_2018</td>\n    </tr>\n    <tr>\n      <th>2</th>\n      <td>2136460</td>\n      <td>1483730</td>\n      <td>1051700</td>\n      <td>139680</td>\n      <td>587500</td>\n      <td>0</td>\n      <td>42360</td>\n      <td>12170</td>\n      <td>5454430</td>\n      <td>Q3_2018</td>\n    </tr>\n    <tr>\n      <th>3</th>\n      <td>2219700</td>\n      <td>1497420</td>\n      <td>1001920</td>\n      <td>137420</td>\n      <td>576590</td>\n      <td>9670</td>\n      <td>40080</td>\n      <td>9890</td>\n      <td>5493170</td>\n      <td>Q4_2018</td>\n    </tr>\n    <tr>\n      <th>4</th>\n      <td>2286190</td>\n      <td>1582830</td>\n      <td>1017510</td>\n      <td>144390</td>\n      <td>585240</td>\n      <td>11710</td>\n      <td>37550</td>\n      <td>9320</td>\n      <td>5675200</td>\n      <td>Q1_2019</td>\n    </tr>\n  </tbody>\n</table>\n</div>"
     },
     "metadata": {},
     "execution_count": 6
    }
   ],
   "source": [
    "# List of column to sum quarterly\n",
    "states = ['NSW', 'VIC','QLD','SA','WA','TAS','NT','ACT','AU']\n",
    "\n",
    "Q={}\n",
    "counter = 1\n",
    "calc = 0\n",
    "for i in range (1,len(states)+1):\n",
    "    Q[f'{states[i-1]}']=[]\n",
    "    for j in range(len(df_arrival_2018)):\n",
    "        calc = df_arrival_2018.iloc[j,i] + calc       \n",
    "        if counter == 3:\n",
    "            # Append every 3 months\n",
    "            Q[f'{states[i-1]}'].append(calc)\n",
    "            calc = 0\n",
    "            counter = 0\n",
    "        if j == len(df_arrival_2018):\n",
    "            Q[f'{states[i-1]}'].append(calc)\n",
    "            counter = 0\n",
    "            calc = 0\n",
    "        \n",
    "        counter+=1\n",
    "\n",
    "# Adding column quarter\n",
    "df_arrival_2021 = pd.DataFrame(Q)\n",
    "\n",
    "Quarter = []\n",
    "for i in range(len(years)):\n",
    "    for j in range(len(quart)):\n",
    "        # print(i,j,years[i],quart[j])\n",
    "        if i == len(years)-1:\n",
    "            Quarter.append(f'Q1_{years[i]}')\n",
    "            break\n",
    "        Quarter.append(f'{quart[j]}_{range_years[i]}')\n",
    "# Creating data in the same length as covid data\n",
    "df_arrival_2021['Quarter'] = Quarter\n",
    "# Creating data in the same length as quarterly\n",
    "# df_arrival_2020 = df_arrival_2021[:-1]\n",
    "df_arrival_2021.to_csv('../Output/industry/arrival.csv')\n",
    "df_arrival_2021.head()"
   ]
  },
  {
   "source": [
    "### Departure"
   ],
   "cell_type": "markdown",
   "metadata": {}
  },
  {
   "cell_type": "code",
   "execution_count": 7,
   "metadata": {},
   "outputs": [
    {
     "output_type": "execute_result",
     "data": {
      "text/plain": [
       "          Date    NSW   VIC   QLD    SA    WA  TAS    NT  ACT     AU  Year  \\\n",
       "50  2020-11-01  16440   550  5780  1090  4490   40  1240  150  29770  2020   \n",
       "51  2020-12-01  16410  5330  6200  1410  4580  140  1030    0  35120  2020   \n",
       "52  2021-01-01  11420  7070  5840  2240  3400   70  1660    0  31690  2021   \n",
       "53  2021-02-01  10590  3230  5610  2050  2360   90  1730  170  25830  2021   \n",
       "54  2021-03-01  14960  1870  7400  2240  3920   30  2340  150  32900  2021   \n",
       "\n",
       "    Month  \n",
       "50     11  \n",
       "51     12  \n",
       "52      1  \n",
       "53      2  \n",
       "54      3  "
      ],
      "text/html": "<div>\n<style scoped>\n    .dataframe tbody tr th:only-of-type {\n        vertical-align: middle;\n    }\n\n    .dataframe tbody tr th {\n        vertical-align: top;\n    }\n\n    .dataframe thead th {\n        text-align: right;\n    }\n</style>\n<table border=\"1\" class=\"dataframe\">\n  <thead>\n    <tr style=\"text-align: right;\">\n      <th></th>\n      <th>Date</th>\n      <th>NSW</th>\n      <th>VIC</th>\n      <th>QLD</th>\n      <th>SA</th>\n      <th>WA</th>\n      <th>TAS</th>\n      <th>NT</th>\n      <th>ACT</th>\n      <th>AU</th>\n      <th>Year</th>\n      <th>Month</th>\n    </tr>\n  </thead>\n  <tbody>\n    <tr>\n      <th>50</th>\n      <td>2020-11-01</td>\n      <td>16440</td>\n      <td>550</td>\n      <td>5780</td>\n      <td>1090</td>\n      <td>4490</td>\n      <td>40</td>\n      <td>1240</td>\n      <td>150</td>\n      <td>29770</td>\n      <td>2020</td>\n      <td>11</td>\n    </tr>\n    <tr>\n      <th>51</th>\n      <td>2020-12-01</td>\n      <td>16410</td>\n      <td>5330</td>\n      <td>6200</td>\n      <td>1410</td>\n      <td>4580</td>\n      <td>140</td>\n      <td>1030</td>\n      <td>0</td>\n      <td>35120</td>\n      <td>2020</td>\n      <td>12</td>\n    </tr>\n    <tr>\n      <th>52</th>\n      <td>2021-01-01</td>\n      <td>11420</td>\n      <td>7070</td>\n      <td>5840</td>\n      <td>2240</td>\n      <td>3400</td>\n      <td>70</td>\n      <td>1660</td>\n      <td>0</td>\n      <td>31690</td>\n      <td>2021</td>\n      <td>1</td>\n    </tr>\n    <tr>\n      <th>53</th>\n      <td>2021-02-01</td>\n      <td>10590</td>\n      <td>3230</td>\n      <td>5610</td>\n      <td>2050</td>\n      <td>2360</td>\n      <td>90</td>\n      <td>1730</td>\n      <td>170</td>\n      <td>25830</td>\n      <td>2021</td>\n      <td>2</td>\n    </tr>\n    <tr>\n      <th>54</th>\n      <td>2021-03-01</td>\n      <td>14960</td>\n      <td>1870</td>\n      <td>7400</td>\n      <td>2240</td>\n      <td>3920</td>\n      <td>30</td>\n      <td>2340</td>\n      <td>150</td>\n      <td>32900</td>\n      <td>2021</td>\n      <td>3</td>\n    </tr>\n  </tbody>\n</table>\n</div>"
     },
     "metadata": {},
     "execution_count": 7
    }
   ],
   "source": [
    "# Extract data for ABS\n",
    "df_dept_raw = pd.read_excel('../Resources/industry/Travel_State_Mar21.xls', sheet_name='Table 1.2')\n",
    "df_dept = df_dept_raw.iloc[7:]\n",
    "df_dept.columns\n",
    "df_dept = df_dept.rename(columns = {'            Australian Bureau of Statistics': 'Date', 'Unnamed: 1': 'NSW', 'Unnamed: 2': 'VIC', 'Unnamed: 3':'QLD', 'Unnamed: 4':'SA', 'Unnamed: 5':'WA', 'Unnamed: 6':'TAS', 'Unnamed: 7':'NT', \n",
    "'Unnamed: 8': 'ACT', 'Unnamed: 9':'AU'}, inplace = False)\n",
    "df_dept.reset_index(drop = True, inplace = True)\n",
    "df_dept = df_arrival[:55]\n",
    "df_dept['Date'] = pd.to_datetime(df_dept['Date']).dt.date\n",
    "\n",
    "# Get the year and quarter data\n",
    "df_dept['Year'] = pd.to_datetime(df_dept['Date']).dt.year\n",
    "df_dept['Month'] = pd.to_datetime(df_dept['Date']).dt.month\n",
    "\n",
    "# Extract from 2018\n",
    "df_dept_2018 = df_dept[-39:]\n",
    "df_dept_2018.tail()\n",
    "\n",
    "# # save the monthly travel data from 2018-2021\n",
    "# df_m_depart = df_dept_2018.reset_index(drop = True)\n",
    "# df_m_depart.to_csv('../Output/industry/depart_m.csv')"
   ]
  },
  {
   "cell_type": "code",
   "execution_count": 8,
   "metadata": {},
   "outputs": [],
   "source": [
    "# clean the monthly data\n",
    "df_m_depart = df_dept_2018[['NSW', 'VIC', 'QLD', 'SA', 'WA', 'TAS', 'NT','ACT','AU']]\n",
    "\n",
    "\n",
    "df_dept_2018 = df_dept_2018.reset_index(drop=True)\n",
    "mos = []\n",
    "for i in range(len(df_dept_2018)):\n",
    "    # print(i,df_dept_2018)\n",
    "    mos.append(f'{df_dept_2018.iloc[i,11]}_{df_dept_2018.iloc[i,10]}')\n",
    "    # _{df_dept_2018['Year'][i]}')\n",
    "\n",
    "df_m_depart['Month'] = mos\n",
    "df_m_depart = df_m_depart.reset_index(drop = True)\n",
    "df_m_depart.to_csv('../Output/industry/m_depart.csv')\n",
    "\n",
    "# df_dept_2018"
   ]
  },
  {
   "cell_type": "code",
   "execution_count": 10,
   "metadata": {},
   "outputs": [
    {
     "output_type": "execute_result",
     "data": {
      "text/plain": [
       "       NSW      VIC      QLD      SA      WA    TAS     NT    ACT       AU  \\\n",
       "0  2264540  1478110  1009060  139500  591850   9330  38810  13660  5545340   \n",
       "1  1859650  1255830   892100  108610  500010     10  37590  11880  4665990   \n",
       "2  2136460  1483730  1051700  139680  587500      0  42360  12170  5454430   \n",
       "3  2219700  1497420  1001920  137420  576590   9670  40080   9890  5493170   \n",
       "4  2286190  1582830  1017510  144390  585240  11710  37550   9320  5675200   \n",
       "\n",
       "   Quarter  \n",
       "0  Q1_2018  \n",
       "1  Q2_2018  \n",
       "2  Q3_2018  \n",
       "3  Q4_2018  \n",
       "4  Q1_2019  "
      ],
      "text/html": "<div>\n<style scoped>\n    .dataframe tbody tr th:only-of-type {\n        vertical-align: middle;\n    }\n\n    .dataframe tbody tr th {\n        vertical-align: top;\n    }\n\n    .dataframe thead th {\n        text-align: right;\n    }\n</style>\n<table border=\"1\" class=\"dataframe\">\n  <thead>\n    <tr style=\"text-align: right;\">\n      <th></th>\n      <th>NSW</th>\n      <th>VIC</th>\n      <th>QLD</th>\n      <th>SA</th>\n      <th>WA</th>\n      <th>TAS</th>\n      <th>NT</th>\n      <th>ACT</th>\n      <th>AU</th>\n      <th>Quarter</th>\n    </tr>\n  </thead>\n  <tbody>\n    <tr>\n      <th>0</th>\n      <td>2264540</td>\n      <td>1478110</td>\n      <td>1009060</td>\n      <td>139500</td>\n      <td>591850</td>\n      <td>9330</td>\n      <td>38810</td>\n      <td>13660</td>\n      <td>5545340</td>\n      <td>Q1_2018</td>\n    </tr>\n    <tr>\n      <th>1</th>\n      <td>1859650</td>\n      <td>1255830</td>\n      <td>892100</td>\n      <td>108610</td>\n      <td>500010</td>\n      <td>10</td>\n      <td>37590</td>\n      <td>11880</td>\n      <td>4665990</td>\n      <td>Q2_2018</td>\n    </tr>\n    <tr>\n      <th>2</th>\n      <td>2136460</td>\n      <td>1483730</td>\n      <td>1051700</td>\n      <td>139680</td>\n      <td>587500</td>\n      <td>0</td>\n      <td>42360</td>\n      <td>12170</td>\n      <td>5454430</td>\n      <td>Q3_2018</td>\n    </tr>\n    <tr>\n      <th>3</th>\n      <td>2219700</td>\n      <td>1497420</td>\n      <td>1001920</td>\n      <td>137420</td>\n      <td>576590</td>\n      <td>9670</td>\n      <td>40080</td>\n      <td>9890</td>\n      <td>5493170</td>\n      <td>Q4_2018</td>\n    </tr>\n    <tr>\n      <th>4</th>\n      <td>2286190</td>\n      <td>1582830</td>\n      <td>1017510</td>\n      <td>144390</td>\n      <td>585240</td>\n      <td>11710</td>\n      <td>37550</td>\n      <td>9320</td>\n      <td>5675200</td>\n      <td>Q1_2019</td>\n    </tr>\n  </tbody>\n</table>\n</div>"
     },
     "metadata": {},
     "execution_count": 10
    }
   ],
   "source": [
    "# Calculate the quarter data for departure\n",
    "Q={}\n",
    "counter = 1\n",
    "calc = 0\n",
    "for i in range (1,len(states)+1):\n",
    "    Q[f'{states[i-1]}']=[]\n",
    "    for j in range(len(df_dept_2018)):\n",
    "        calc = df_dept_2018.iloc[j,i] + calc       \n",
    "        if counter == 3:\n",
    "            # Append every 3 months\n",
    "            Q[f'{states[i-1]}'].append(calc)\n",
    "            calc = 0\n",
    "            counter = 0\n",
    "        if j == len(df_dept_2018):\n",
    "            Q[f'{states[i-1]}'].append(calc)\n",
    "            counter = 0\n",
    "            calc = 0\n",
    "        \n",
    "        counter+=1\n",
    "\n",
    "# Adding column quarter\n",
    "df_dept_2021 = pd.DataFrame(Q)\n",
    "\n",
    "# The quarter column data is the same as arrival data\n",
    "df_dept_2021['Quarter'] = Quarter\n",
    "df_dept_2021.to_csv('../Output/industry/departure.csv')\n",
    "df_dept_2021.head()"
   ]
  },
  {
   "source": [
    "<a id = 'refer'></a>\n",
    "# 2.0 References\n",
    "\n",
    "1. [Mining Industry](https://www.abs.gov.au/statistics/industry/mining/mineral-and-petroleum-exploration-australia/latest-release)\n",
    "2. [Travel and Tourism Industry](https://www.abs.gov.au/statistics/industry/tourism-and-transport/overseas-arrivals-and-departures-australia/feb-2021)"
   ],
   "cell_type": "markdown",
   "metadata": {}
  }
 ]
}
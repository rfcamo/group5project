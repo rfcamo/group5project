{
 "metadata": {
  "language_info": {
   "codemirror_mode": {
    "name": "ipython",
    "version": 3
   },
   "file_extension": ".py",
   "mimetype": "text/x-python",
   "name": "python",
   "nbconvert_exporter": "python",
   "pygments_lexer": "ipython3",
   "version": "3.8.3"
  },
  "orig_nbformat": 2,
  "kernelspec": {
   "name": "python383jvsc74a57bd051d3291f5ceb888cf1faadfa41614c22458ba4c049584f6a0b84510c56f587e2",
   "display_name": "Python 3.8.3 64-bit (conda)"
  }
 },
 "nbformat": 4,
 "nbformat_minor": 2,
 "cells": [
  {
   "cell_type": "code",
   "execution_count": 90,
   "metadata": {},
   "outputs": [],
   "source": [
    "import pandas as pd\n",
    "import numpy as np\n",
    "import matplotlib.pyplot as plt"
   ]
  },
  {
   "cell_type": "code",
   "execution_count": 91,
   "metadata": {},
   "outputs": [],
   "source": [
    "df_raw = pd.read_csv('time_series_covid19_confirmed_global_metricdate.csv')\n",
    "df_raw_aus = df_raw[df_raw['Country/Region'] == \"Australia\" ]"
   ]
  },
  {
   "cell_type": "code",
   "execution_count": 92,
   "metadata": {},
   "outputs": [],
   "source": [
    "dates = df_raw_aus.columns[4:]"
   ]
  },
  {
   "cell_type": "code",
   "execution_count": 93,
   "metadata": {},
   "outputs": [
    {
     "output_type": "execute_result",
     "data": {
      "text/plain": [
       "Index(['22-01-20', '23-01-20', '24-01-20', '25-01-20', '26-01-20', '27-01-20',\n",
       "       '28-01-20', '29-01-20', '30-01-20', '31-01-20',\n",
       "       ...\n",
       "       '12-04-21', '13-04-21', '14-04-21', '15-04-21', '16-04-21', '17-04-21',\n",
       "       '18-04-21', '19-04-21', '20-04-21', '21-04-21'],\n",
       "      dtype='object', length=456)"
      ]
     },
     "metadata": {},
     "execution_count": 93
    }
   ],
   "source": [
    "dates"
   ]
  },
  {
   "cell_type": "code",
   "execution_count": 94,
   "metadata": {},
   "outputs": [
    {
     "output_type": "execute_result",
     "data": {
      "text/plain": [
       "'01'"
      ]
     },
     "metadata": {},
     "execution_count": 94
    }
   ],
   "source": [
    "mm = dates[0].split('-')\n",
    "mm[1]"
   ]
  },
  {
   "cell_type": "code",
   "execution_count": 95,
   "metadata": {},
   "outputs": [],
   "source": [
    "months = [date.split('-')[1] for date in dates]\n",
    "years = [date.split('-')[2] for date in dates]"
   ]
  },
  {
   "cell_type": "code",
   "execution_count": 96,
   "metadata": {},
   "outputs": [],
   "source": [
    "df_aus = df_raw_aus.T"
   ]
  },
  {
   "cell_type": "code",
   "execution_count": 97,
   "metadata": {},
   "outputs": [
    {
     "output_type": "execute_result",
     "data": {
      "text/plain": [
       "                                          8                9   \\\n",
       "Province/State  Australian Capital Territory  New South Wales   \n",
       "Country/Region                     Australia        Australia   \n",
       "Lat                                 -35.4735         -33.8688   \n",
       "Long                                 149.012          151.209   \n",
       "22-01-20                                   0                0   \n",
       "...                                      ...              ...   \n",
       "17-04-21                                 123             5376   \n",
       "18-04-21                                 123             5384   \n",
       "19-04-21                                 123             5387   \n",
       "20-04-21                                 123             5395   \n",
       "21-04-21                                 123             5402   \n",
       "\n",
       "                                10          11               12         13  \\\n",
       "Province/State  Northern Territory  Queensland  South Australia   Tasmania   \n",
       "Country/Region           Australia   Australia        Australia  Australia   \n",
       "Lat                       -12.4634    -27.4698         -34.9285   -42.8821   \n",
       "Long                       130.846     153.025          138.601    147.327   \n",
       "22-01-20                         0           0                0          0   \n",
       "...                            ...         ...              ...        ...   \n",
       "17-04-21                       119        1518              682        234   \n",
       "18-04-21                       119        1518              682        234   \n",
       "19-04-21                       129        1518              688        234   \n",
       "20-04-21                       132        1519              691        234   \n",
       "21-04-21                       136        1520              693        234   \n",
       "\n",
       "                       14                 15  \n",
       "Province/State   Victoria  Western Australia  \n",
       "Country/Region  Australia          Australia  \n",
       "Lat              -37.8136           -31.9505  \n",
       "Long              144.963            115.861  \n",
       "22-01-20                0                  0  \n",
       "...                   ...                ...  \n",
       "17-04-21            20494                973  \n",
       "18-04-21            20498                975  \n",
       "19-04-21            20499                978  \n",
       "20-04-21            20502                980  \n",
       "21-04-21            20504                982  \n",
       "\n",
       "[460 rows x 8 columns]"
      ],
      "text/html": "<div>\n<style scoped>\n    .dataframe tbody tr th:only-of-type {\n        vertical-align: middle;\n    }\n\n    .dataframe tbody tr th {\n        vertical-align: top;\n    }\n\n    .dataframe thead th {\n        text-align: right;\n    }\n</style>\n<table border=\"1\" class=\"dataframe\">\n  <thead>\n    <tr style=\"text-align: right;\">\n      <th></th>\n      <th>8</th>\n      <th>9</th>\n      <th>10</th>\n      <th>11</th>\n      <th>12</th>\n      <th>13</th>\n      <th>14</th>\n      <th>15</th>\n    </tr>\n  </thead>\n  <tbody>\n    <tr>\n      <th>Province/State</th>\n      <td>Australian Capital Territory</td>\n      <td>New South Wales</td>\n      <td>Northern Territory</td>\n      <td>Queensland</td>\n      <td>South Australia</td>\n      <td>Tasmania</td>\n      <td>Victoria</td>\n      <td>Western Australia</td>\n    </tr>\n    <tr>\n      <th>Country/Region</th>\n      <td>Australia</td>\n      <td>Australia</td>\n      <td>Australia</td>\n      <td>Australia</td>\n      <td>Australia</td>\n      <td>Australia</td>\n      <td>Australia</td>\n      <td>Australia</td>\n    </tr>\n    <tr>\n      <th>Lat</th>\n      <td>-35.4735</td>\n      <td>-33.8688</td>\n      <td>-12.4634</td>\n      <td>-27.4698</td>\n      <td>-34.9285</td>\n      <td>-42.8821</td>\n      <td>-37.8136</td>\n      <td>-31.9505</td>\n    </tr>\n    <tr>\n      <th>Long</th>\n      <td>149.012</td>\n      <td>151.209</td>\n      <td>130.846</td>\n      <td>153.025</td>\n      <td>138.601</td>\n      <td>147.327</td>\n      <td>144.963</td>\n      <td>115.861</td>\n    </tr>\n    <tr>\n      <th>22-01-20</th>\n      <td>0</td>\n      <td>0</td>\n      <td>0</td>\n      <td>0</td>\n      <td>0</td>\n      <td>0</td>\n      <td>0</td>\n      <td>0</td>\n    </tr>\n    <tr>\n      <th>...</th>\n      <td>...</td>\n      <td>...</td>\n      <td>...</td>\n      <td>...</td>\n      <td>...</td>\n      <td>...</td>\n      <td>...</td>\n      <td>...</td>\n    </tr>\n    <tr>\n      <th>17-04-21</th>\n      <td>123</td>\n      <td>5376</td>\n      <td>119</td>\n      <td>1518</td>\n      <td>682</td>\n      <td>234</td>\n      <td>20494</td>\n      <td>973</td>\n    </tr>\n    <tr>\n      <th>18-04-21</th>\n      <td>123</td>\n      <td>5384</td>\n      <td>119</td>\n      <td>1518</td>\n      <td>682</td>\n      <td>234</td>\n      <td>20498</td>\n      <td>975</td>\n    </tr>\n    <tr>\n      <th>19-04-21</th>\n      <td>123</td>\n      <td>5387</td>\n      <td>129</td>\n      <td>1518</td>\n      <td>688</td>\n      <td>234</td>\n      <td>20499</td>\n      <td>978</td>\n    </tr>\n    <tr>\n      <th>20-04-21</th>\n      <td>123</td>\n      <td>5395</td>\n      <td>132</td>\n      <td>1519</td>\n      <td>691</td>\n      <td>234</td>\n      <td>20502</td>\n      <td>980</td>\n    </tr>\n    <tr>\n      <th>21-04-21</th>\n      <td>123</td>\n      <td>5402</td>\n      <td>136</td>\n      <td>1520</td>\n      <td>693</td>\n      <td>234</td>\n      <td>20504</td>\n      <td>982</td>\n    </tr>\n  </tbody>\n</table>\n<p>460 rows × 8 columns</p>\n</div>"
     },
     "metadata": {},
     "execution_count": 97
    }
   ],
   "source": [
    "df_aus"
   ]
  },
  {
   "cell_type": "code",
   "execution_count": 98,
   "metadata": {},
   "outputs": [],
   "source": [
    "df = df_aus.iloc[4:]\n",
    "df = df.rename(columns={8: 'ACT', 9: 'NSW', 10:'NT', 11: 'QLD', 12: 'SA', 13:'TAS', 14: 'VIC', 15: 'WA' })\n",
    "# df['Months'] = months"
   ]
  },
  {
   "cell_type": "code",
   "execution_count": 99,
   "metadata": {},
   "outputs": [
    {
     "output_type": "execute_result",
     "data": {
      "text/plain": [
       "         ACT NSW NT QLD SA TAS VIC WA\n",
       "22-01-20   0   0  0   0  0   0   0  0\n",
       "23-01-20   0   0  0   0  0   0   0  0\n",
       "24-01-20   0   0  0   0  0   0   0  0\n",
       "25-01-20   0   0  0   0  0   0   0  0\n",
       "26-01-20   0   3  0   0  0   0   1  0\n",
       "27-01-20   0   4  0   0  0   0   1  0\n",
       "28-01-20   0   4  0   0  0   0   1  0\n",
       "29-01-20   0   4  0   1  0   0   1  0\n",
       "30-01-20   0   4  0   3  0   0   2  0\n",
       "31-01-20   0   4  0   2  0   0   3  0\n",
       "01-02-20   0   4  0   3  1   0   4  0\n",
       "02-02-20   0   4  0   2  2   0   4  0"
      ],
      "text/html": "<div>\n<style scoped>\n    .dataframe tbody tr th:only-of-type {\n        vertical-align: middle;\n    }\n\n    .dataframe tbody tr th {\n        vertical-align: top;\n    }\n\n    .dataframe thead th {\n        text-align: right;\n    }\n</style>\n<table border=\"1\" class=\"dataframe\">\n  <thead>\n    <tr style=\"text-align: right;\">\n      <th></th>\n      <th>ACT</th>\n      <th>NSW</th>\n      <th>NT</th>\n      <th>QLD</th>\n      <th>SA</th>\n      <th>TAS</th>\n      <th>VIC</th>\n      <th>WA</th>\n    </tr>\n  </thead>\n  <tbody>\n    <tr>\n      <th>22-01-20</th>\n      <td>0</td>\n      <td>0</td>\n      <td>0</td>\n      <td>0</td>\n      <td>0</td>\n      <td>0</td>\n      <td>0</td>\n      <td>0</td>\n    </tr>\n    <tr>\n      <th>23-01-20</th>\n      <td>0</td>\n      <td>0</td>\n      <td>0</td>\n      <td>0</td>\n      <td>0</td>\n      <td>0</td>\n      <td>0</td>\n      <td>0</td>\n    </tr>\n    <tr>\n      <th>24-01-20</th>\n      <td>0</td>\n      <td>0</td>\n      <td>0</td>\n      <td>0</td>\n      <td>0</td>\n      <td>0</td>\n      <td>0</td>\n      <td>0</td>\n    </tr>\n    <tr>\n      <th>25-01-20</th>\n      <td>0</td>\n      <td>0</td>\n      <td>0</td>\n      <td>0</td>\n      <td>0</td>\n      <td>0</td>\n      <td>0</td>\n      <td>0</td>\n    </tr>\n    <tr>\n      <th>26-01-20</th>\n      <td>0</td>\n      <td>3</td>\n      <td>0</td>\n      <td>0</td>\n      <td>0</td>\n      <td>0</td>\n      <td>1</td>\n      <td>0</td>\n    </tr>\n    <tr>\n      <th>27-01-20</th>\n      <td>0</td>\n      <td>4</td>\n      <td>0</td>\n      <td>0</td>\n      <td>0</td>\n      <td>0</td>\n      <td>1</td>\n      <td>0</td>\n    </tr>\n    <tr>\n      <th>28-01-20</th>\n      <td>0</td>\n      <td>4</td>\n      <td>0</td>\n      <td>0</td>\n      <td>0</td>\n      <td>0</td>\n      <td>1</td>\n      <td>0</td>\n    </tr>\n    <tr>\n      <th>29-01-20</th>\n      <td>0</td>\n      <td>4</td>\n      <td>0</td>\n      <td>1</td>\n      <td>0</td>\n      <td>0</td>\n      <td>1</td>\n      <td>0</td>\n    </tr>\n    <tr>\n      <th>30-01-20</th>\n      <td>0</td>\n      <td>4</td>\n      <td>0</td>\n      <td>3</td>\n      <td>0</td>\n      <td>0</td>\n      <td>2</td>\n      <td>0</td>\n    </tr>\n    <tr>\n      <th>31-01-20</th>\n      <td>0</td>\n      <td>4</td>\n      <td>0</td>\n      <td>2</td>\n      <td>0</td>\n      <td>0</td>\n      <td>3</td>\n      <td>0</td>\n    </tr>\n    <tr>\n      <th>01-02-20</th>\n      <td>0</td>\n      <td>4</td>\n      <td>0</td>\n      <td>3</td>\n      <td>1</td>\n      <td>0</td>\n      <td>4</td>\n      <td>0</td>\n    </tr>\n    <tr>\n      <th>02-02-20</th>\n      <td>0</td>\n      <td>4</td>\n      <td>0</td>\n      <td>2</td>\n      <td>2</td>\n      <td>0</td>\n      <td>4</td>\n      <td>0</td>\n    </tr>\n  </tbody>\n</table>\n</div>"
     },
     "metadata": {},
     "execution_count": 99
    }
   ],
   "source": [
    "df.head(12)"
   ]
  },
  {
   "cell_type": "code",
   "execution_count": 100,
   "metadata": {},
   "outputs": [],
   "source": [
    "# act=[]\n",
    "# nsw=[]\n",
    "cases = {}\n",
    "states = df.columns\n",
    "\n",
    "for i in range(len(states)):\n",
    "    count = 0\n",
    "    cases[f'{states[i]}']=[]\n",
    "    for j in range(1, len(df)):\n",
    "        if count == 0:\n",
    "            cases[f'{states[i]}'].append(0)\n",
    "            # print(j, act)\n",
    "        # else:\n",
    "        next_val = df.iloc[j,i]\n",
    "        prev_val = df.iloc[j-1,i]\n",
    "        diff = next_val - prev_val\n",
    "        cases[f'{states[i]}'].append(diff)\n",
    "\n",
    "        if j == len(df):\n",
    "            count = 0\n",
    "        else:\n",
    "            count+=1\n",
    "\n",
    "# print(len(act))\n",
    "        \n",
    "        # prev_value = row[index]\n",
    "\n",
    "        # diff = next_value - prev_value\n",
    "        # print(diff)\n",
    "    # except:\n",
    "    #     print(\"Last row\")\n",
    "# act[:8]\n",
    "cases['WA']\n",
    "df_cases = pd.DataFrame(cases)"
   ]
  },
  {
   "cell_type": "code",
   "execution_count": 101,
   "metadata": {},
   "outputs": [
    {
     "output_type": "execute_result",
     "data": {
      "text/plain": [
       "Int64Index([82], dtype='int64')"
      ]
     },
     "metadata": {},
     "execution_count": 101
    }
   ],
   "source": [
    "df_cases[df_cases['ACT'] == -1].index"
   ]
  },
  {
   "cell_type": "code",
   "execution_count": 102,
   "metadata": {},
   "outputs": [
    {
     "output_type": "execute_result",
     "data": {
      "text/plain": [
       "     ACT  NSW  NT  QLD  SA  TAS  VIC  WA\n",
       "0      0    0   0    0   0    0    0   0\n",
       "1      0    0   0    0   0    0    0   0\n",
       "2      0    0   0    0   0    0    0   0\n",
       "3      0    0   0    0   0    0    0   0\n",
       "4      0    3   0    0   0    0    1   0\n",
       "..   ...  ...  ..  ...  ..  ...  ...  ..\n",
       "451    0    6   6    2   0    0    0   6\n",
       "452    0    8   0    0   0    0    4   2\n",
       "453    0    3  10    0   6    0    1   3\n",
       "454    0    8   3    1   3    0    3   2\n",
       "455    0    7   4    1   2    0    2   2\n",
       "\n",
       "[456 rows x 8 columns]"
      ],
      "text/html": "<div>\n<style scoped>\n    .dataframe tbody tr th:only-of-type {\n        vertical-align: middle;\n    }\n\n    .dataframe tbody tr th {\n        vertical-align: top;\n    }\n\n    .dataframe thead th {\n        text-align: right;\n    }\n</style>\n<table border=\"1\" class=\"dataframe\">\n  <thead>\n    <tr style=\"text-align: right;\">\n      <th></th>\n      <th>ACT</th>\n      <th>NSW</th>\n      <th>NT</th>\n      <th>QLD</th>\n      <th>SA</th>\n      <th>TAS</th>\n      <th>VIC</th>\n      <th>WA</th>\n    </tr>\n  </thead>\n  <tbody>\n    <tr>\n      <th>0</th>\n      <td>0</td>\n      <td>0</td>\n      <td>0</td>\n      <td>0</td>\n      <td>0</td>\n      <td>0</td>\n      <td>0</td>\n      <td>0</td>\n    </tr>\n    <tr>\n      <th>1</th>\n      <td>0</td>\n      <td>0</td>\n      <td>0</td>\n      <td>0</td>\n      <td>0</td>\n      <td>0</td>\n      <td>0</td>\n      <td>0</td>\n    </tr>\n    <tr>\n      <th>2</th>\n      <td>0</td>\n      <td>0</td>\n      <td>0</td>\n      <td>0</td>\n      <td>0</td>\n      <td>0</td>\n      <td>0</td>\n      <td>0</td>\n    </tr>\n    <tr>\n      <th>3</th>\n      <td>0</td>\n      <td>0</td>\n      <td>0</td>\n      <td>0</td>\n      <td>0</td>\n      <td>0</td>\n      <td>0</td>\n      <td>0</td>\n    </tr>\n    <tr>\n      <th>4</th>\n      <td>0</td>\n      <td>3</td>\n      <td>0</td>\n      <td>0</td>\n      <td>0</td>\n      <td>0</td>\n      <td>1</td>\n      <td>0</td>\n    </tr>\n    <tr>\n      <th>...</th>\n      <td>...</td>\n      <td>...</td>\n      <td>...</td>\n      <td>...</td>\n      <td>...</td>\n      <td>...</td>\n      <td>...</td>\n      <td>...</td>\n    </tr>\n    <tr>\n      <th>451</th>\n      <td>0</td>\n      <td>6</td>\n      <td>6</td>\n      <td>2</td>\n      <td>0</td>\n      <td>0</td>\n      <td>0</td>\n      <td>6</td>\n    </tr>\n    <tr>\n      <th>452</th>\n      <td>0</td>\n      <td>8</td>\n      <td>0</td>\n      <td>0</td>\n      <td>0</td>\n      <td>0</td>\n      <td>4</td>\n      <td>2</td>\n    </tr>\n    <tr>\n      <th>453</th>\n      <td>0</td>\n      <td>3</td>\n      <td>10</td>\n      <td>0</td>\n      <td>6</td>\n      <td>0</td>\n      <td>1</td>\n      <td>3</td>\n    </tr>\n    <tr>\n      <th>454</th>\n      <td>0</td>\n      <td>8</td>\n      <td>3</td>\n      <td>1</td>\n      <td>3</td>\n      <td>0</td>\n      <td>3</td>\n      <td>2</td>\n    </tr>\n    <tr>\n      <th>455</th>\n      <td>0</td>\n      <td>7</td>\n      <td>4</td>\n      <td>1</td>\n      <td>2</td>\n      <td>0</td>\n      <td>2</td>\n      <td>2</td>\n    </tr>\n  </tbody>\n</table>\n<p>456 rows × 8 columns</p>\n</div>"
     },
     "metadata": {},
     "execution_count": 102
    }
   ],
   "source": [
    "df_cases"
   ]
  },
  {
   "cell_type": "code",
   "execution_count": 103,
   "metadata": {},
   "outputs": [
    {
     "output_type": "execute_result",
     "data": {
      "text/plain": [
       "   ACT  NSW  NT  QLD  SA  TAS  VIC  WA Month Year\n",
       "0    0    0   0    0   0    0    0   0    01   20\n",
       "1    0    0   0    0   0    0    0   0    01   20\n",
       "2    0    0   0    0   0    0    0   0    01   20\n",
       "3    0    0   0    0   0    0    0   0    01   20\n",
       "4    0    3   0    0   0    0    1   0    01   20"
      ],
      "text/html": "<div>\n<style scoped>\n    .dataframe tbody tr th:only-of-type {\n        vertical-align: middle;\n    }\n\n    .dataframe tbody tr th {\n        vertical-align: top;\n    }\n\n    .dataframe thead th {\n        text-align: right;\n    }\n</style>\n<table border=\"1\" class=\"dataframe\">\n  <thead>\n    <tr style=\"text-align: right;\">\n      <th></th>\n      <th>ACT</th>\n      <th>NSW</th>\n      <th>NT</th>\n      <th>QLD</th>\n      <th>SA</th>\n      <th>TAS</th>\n      <th>VIC</th>\n      <th>WA</th>\n      <th>Month</th>\n      <th>Year</th>\n    </tr>\n  </thead>\n  <tbody>\n    <tr>\n      <th>0</th>\n      <td>0</td>\n      <td>0</td>\n      <td>0</td>\n      <td>0</td>\n      <td>0</td>\n      <td>0</td>\n      <td>0</td>\n      <td>0</td>\n      <td>01</td>\n      <td>20</td>\n    </tr>\n    <tr>\n      <th>1</th>\n      <td>0</td>\n      <td>0</td>\n      <td>0</td>\n      <td>0</td>\n      <td>0</td>\n      <td>0</td>\n      <td>0</td>\n      <td>0</td>\n      <td>01</td>\n      <td>20</td>\n    </tr>\n    <tr>\n      <th>2</th>\n      <td>0</td>\n      <td>0</td>\n      <td>0</td>\n      <td>0</td>\n      <td>0</td>\n      <td>0</td>\n      <td>0</td>\n      <td>0</td>\n      <td>01</td>\n      <td>20</td>\n    </tr>\n    <tr>\n      <th>3</th>\n      <td>0</td>\n      <td>0</td>\n      <td>0</td>\n      <td>0</td>\n      <td>0</td>\n      <td>0</td>\n      <td>0</td>\n      <td>0</td>\n      <td>01</td>\n      <td>20</td>\n    </tr>\n    <tr>\n      <th>4</th>\n      <td>0</td>\n      <td>3</td>\n      <td>0</td>\n      <td>0</td>\n      <td>0</td>\n      <td>0</td>\n      <td>1</td>\n      <td>0</td>\n      <td>01</td>\n      <td>20</td>\n    </tr>\n  </tbody>\n</table>\n</div>"
     },
     "metadata": {},
     "execution_count": 103
    }
   ],
   "source": [
    "df_cases['Month'] = months\n",
    "df_cases['Year'] = years\n",
    "df_cases.head()"
   ]
  },
  {
   "cell_type": "code",
   "execution_count": 104,
   "metadata": {},
   "outputs": [],
   "source": [
    "# Cases Monthly\n",
    "df_cases_20 = df_cases[df_cases['Year'] == '20']\n",
    "df_cases_21 = df_cases[df_cases['Year'] == '21']"
   ]
  },
  {
   "cell_type": "code",
   "execution_count": 134,
   "metadata": {},
   "outputs": [
    {
     "output_type": "execute_result",
     "data": {
      "text/plain": [
       "       ACT  NSW  NT  QLD  SA  TAS  VIC  WA\n",
       "Month                                     \n",
       "01       0  182  23   57  16    0   73  42\n",
       "02       0   70   7   21  20    0   32  10\n",
       "03       5  116   3  146  40    0    3  31\n",
       "04       0  106  28   43  37    0   20  38"
      ],
      "text/html": "<div>\n<style scoped>\n    .dataframe tbody tr th:only-of-type {\n        vertical-align: middle;\n    }\n\n    .dataframe tbody tr th {\n        vertical-align: top;\n    }\n\n    .dataframe thead th {\n        text-align: right;\n    }\n</style>\n<table border=\"1\" class=\"dataframe\">\n  <thead>\n    <tr style=\"text-align: right;\">\n      <th></th>\n      <th>ACT</th>\n      <th>NSW</th>\n      <th>NT</th>\n      <th>QLD</th>\n      <th>SA</th>\n      <th>TAS</th>\n      <th>VIC</th>\n      <th>WA</th>\n    </tr>\n    <tr>\n      <th>Month</th>\n      <th></th>\n      <th></th>\n      <th></th>\n      <th></th>\n      <th></th>\n      <th></th>\n      <th></th>\n      <th></th>\n    </tr>\n  </thead>\n  <tbody>\n    <tr>\n      <th>01</th>\n      <td>0</td>\n      <td>182</td>\n      <td>23</td>\n      <td>57</td>\n      <td>16</td>\n      <td>0</td>\n      <td>73</td>\n      <td>42</td>\n    </tr>\n    <tr>\n      <th>02</th>\n      <td>0</td>\n      <td>70</td>\n      <td>7</td>\n      <td>21</td>\n      <td>20</td>\n      <td>0</td>\n      <td>32</td>\n      <td>10</td>\n    </tr>\n    <tr>\n      <th>03</th>\n      <td>5</td>\n      <td>116</td>\n      <td>3</td>\n      <td>146</td>\n      <td>40</td>\n      <td>0</td>\n      <td>3</td>\n      <td>31</td>\n    </tr>\n    <tr>\n      <th>04</th>\n      <td>0</td>\n      <td>106</td>\n      <td>28</td>\n      <td>43</td>\n      <td>37</td>\n      <td>0</td>\n      <td>20</td>\n      <td>38</td>\n    </tr>\n  </tbody>\n</table>\n</div>"
     },
     "metadata": {},
     "execution_count": 134
    }
   ],
   "source": [
    "Year_20 = df_cases_20.groupby('Month').sum()\n",
    "Year_20\n",
    "Year_21 = df_cases_21.groupby('Month').sum()\n",
    "Year_21"
   ]
  },
  {
   "cell_type": "code",
   "execution_count": 132,
   "metadata": {},
   "outputs": [
    {
     "output_type": "execute_result",
     "data": {
      "text/plain": [
       "     ACT  NSW  NT  QLD  SA  TAS  VIC  WA Month Year\n",
       "340    0   14   0    5   3    0    2   5    12   20\n",
       "341    0    9   1    2   0    0    0   0    12   20\n",
       "342    0   25   0    2   3    0    1   1    12   20\n",
       "343    0   17   0    3   1    0    3   0    12   20\n",
       "344    0    5   1    0   4    0    8   2    12   20"
      ],
      "text/html": "<div>\n<style scoped>\n    .dataframe tbody tr th:only-of-type {\n        vertical-align: middle;\n    }\n\n    .dataframe tbody tr th {\n        vertical-align: top;\n    }\n\n    .dataframe thead th {\n        text-align: right;\n    }\n</style>\n<table border=\"1\" class=\"dataframe\">\n  <thead>\n    <tr style=\"text-align: right;\">\n      <th></th>\n      <th>ACT</th>\n      <th>NSW</th>\n      <th>NT</th>\n      <th>QLD</th>\n      <th>SA</th>\n      <th>TAS</th>\n      <th>VIC</th>\n      <th>WA</th>\n      <th>Month</th>\n      <th>Year</th>\n    </tr>\n  </thead>\n  <tbody>\n    <tr>\n      <th>340</th>\n      <td>0</td>\n      <td>14</td>\n      <td>0</td>\n      <td>5</td>\n      <td>3</td>\n      <td>0</td>\n      <td>2</td>\n      <td>5</td>\n      <td>12</td>\n      <td>20</td>\n    </tr>\n    <tr>\n      <th>341</th>\n      <td>0</td>\n      <td>9</td>\n      <td>1</td>\n      <td>2</td>\n      <td>0</td>\n      <td>0</td>\n      <td>0</td>\n      <td>0</td>\n      <td>12</td>\n      <td>20</td>\n    </tr>\n    <tr>\n      <th>342</th>\n      <td>0</td>\n      <td>25</td>\n      <td>0</td>\n      <td>2</td>\n      <td>3</td>\n      <td>0</td>\n      <td>1</td>\n      <td>1</td>\n      <td>12</td>\n      <td>20</td>\n    </tr>\n    <tr>\n      <th>343</th>\n      <td>0</td>\n      <td>17</td>\n      <td>0</td>\n      <td>3</td>\n      <td>1</td>\n      <td>0</td>\n      <td>3</td>\n      <td>0</td>\n      <td>12</td>\n      <td>20</td>\n    </tr>\n    <tr>\n      <th>344</th>\n      <td>0</td>\n      <td>5</td>\n      <td>1</td>\n      <td>0</td>\n      <td>4</td>\n      <td>0</td>\n      <td>8</td>\n      <td>2</td>\n      <td>12</td>\n      <td>20</td>\n    </tr>\n  </tbody>\n</table>\n</div>"
     },
     "metadata": {},
     "execution_count": 132
    }
   ],
   "source": [
    "df_cases_20[df_cases_20['Month'] == '12'].tail()"
   ]
  },
  {
   "cell_type": "code",
   "execution_count": null,
   "metadata": {},
   "outputs": [],
   "source": []
  }
 ]
}